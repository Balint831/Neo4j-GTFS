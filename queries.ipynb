{
 "cells": [
  {
   "cell_type": "code",
   "execution_count": 2,
   "metadata": {},
   "outputs": [
    {
     "name": "stderr",
     "output_type": "stream",
     "text": [
      "C:\\Users\\balin\\Anaconda3\\lib\\site-packages\\IPython\\core\\interactiveshell.py:3146: DtypeWarning: Columns (0) have mixed types.Specify dtype option on import or set low_memory=False.\n",
      "  has_raised = await self.run_ast_nodes(code_ast.body, cell_name,\n",
      "C:\\Users\\balin\\Anaconda3\\lib\\site-packages\\IPython\\core\\interactiveshell.py:3146: DtypeWarning: Columns (5) have mixed types.Specify dtype option on import or set low_memory=False.\n",
      "  has_raised = await self.run_ast_nodes(code_ast.body, cell_name,\n"
     ]
    }
   ],
   "source": [
    "import pandas as pd\n",
    "from neo4j import GraphDatabase\n",
    "\n",
    "uri = \"neo4j://localhost:7687\"\n",
    "driver = GraphDatabase.driver(uri, auth=(\"neo4j\", \"password\"))\n",
    "\n",
    "stops = pd.read_csv(\"data/stops.txt\")\n",
    "trips = pd.read_csv(\"data/trips.txt\")\n",
    "stop_times = pd.read_csv(\"data/stop_times.txt\")\n",
    "routes = pd.read_csv(\"data/routes.txt\")"
   ]
  },
  {
   "cell_type": "code",
   "execution_count": 12,
   "metadata": {},
   "outputs": [],
   "source": [
    "import matplotlib.pyplot as plt\n",
    "import seaborn as sns\n",
    "sns.set()\n",
    "\n",
    "import numpy as np"
   ]
  },
  {
   "cell_type": "markdown",
   "metadata": {},
   "source": [
    "# Which stops can be reached without switching rides?"
   ]
  },
  {
   "cell_type": "code",
   "execution_count": 1,
   "metadata": {},
   "outputs": [],
   "source": [
    "def reachable_stops( depart_stop ):\n",
    "    \"\"\"\n",
    "    Find all stops that has a matching substring with depart_stop\n",
    "    and list all the reachable stops from them.\n",
    "    \"\"\"\n",
    "    with driver.session() as session:\n",
    "\n",
    "        response = session.run(f\"\"\"\n",
    "        MATCH (s1: Stop)\n",
    "        WHERE s1.stop_name CONTAINS \"{depart_stop}\"\n",
    "\n",
    "        MATCH (s1)-[:STOPS_AT]-(t: Trip)-[:STOPS_AT]-(s2: Stop)\n",
    "        RETURN DISTINCT s2.stop_name\n",
    "\n",
    "        \"\"\")\n",
    "\n",
    "        stop_names = [ record[0] for record in response]\n",
    "    return stop_names\n"
   ]
  },
  {
   "cell_type": "code",
   "execution_count": 41,
   "metadata": {},
   "outputs": [
    {
     "data": {
      "text/plain": [
       "439"
      ]
     },
     "execution_count": 41,
     "metadata": {},
     "output_type": "execute_result"
    }
   ],
   "source": [
    "asd = reachable_stops(\"Móricz Zsigmond körtér\")\n",
    "len(asd)"
   ]
  },
  {
   "cell_type": "markdown",
   "metadata": {},
   "source": [
    "# Which ride can be switched to from a given ride?"
   ]
  },
  {
   "cell_type": "code",
   "execution_count": null,
   "metadata": {},
   "outputs": [],
   "source": [
    "# Pre-compute distances of stops which are close to each other\n",
    "\n",
    "\n",
    "with driver.session() as session:\n",
    "    session.run( \\\n",
    "\"\"\"MATCH (s1: Stop), (s2: Stop)\n",
    "\n",
    "WITH point.distance(point( {x: s1.stop_lon, y: s1.stop_lat, crs: \"WGS-84\"}) ,\n",
    "                    point( {x: s2.stop_lon, y: s2.stop_lat, crs: \"WGS-84\"})) as dist,\n",
    "s1 as s1,\n",
    "s2 as s2\n",
    "\n",
    "WHERE dist < 600      //only create relationship between stops closer than 600m\n",
    "\n",
    "MERGE (s1)-[:CLOSE_TO {d: dist}]-(s2)\"\"\"\n",
    ")"
   ]
  },
  {
   "cell_type": "markdown",
   "metadata": {},
   "source": [
    "- In ~99% (79.326 out of 6.441.309) of the time the arrival and departure time are the same. So I chose not to make distinct relationships for both.\n",
    "\n",
    "- The preferred walking speed is 1.42 m/s, however only the aerial distance is available for now (the real distance is out of scope), so I chose the walking speed to be 1 m/s\n",
    "\n",
    "- GTFS uses the WGS84 CRS, I used neo4j's spatial functions for calculating distance"
   ]
  },
  {
   "cell_type": "code",
   "execution_count": 8,
   "metadata": {},
   "outputs": [],
   "source": [
    "def switch_from_ride(trip_id):\n",
    "    with driver.session() as session:\n",
    "        response = session.run( \\\n",
    "        \"\"\"\n",
    "MATCH (t1: Trip{trip_id : \"%s\"})\n",
    "        MATCH (t1)-[st1:STOPS_AT]-(: Stop)-[cls:CLOSE_TO]-(s2: Stop)-[st2:STOPS_AT]-(t2: Trip)\n",
    "        WHERE st1.arrival_time < st2.departure_time    //weaker condition, but it speeds up the calc a little\n",
    "\n",
    "\n",
    "        WITH *, duration.inSeconds( st1.arrival_time, st2.departure_time ) as dur\n",
    "\n",
    "        WHERE dur.seconds*1 > cls.d     // the stop must be in reachable distance\n",
    "        and dur.seconds < 600          // make the switch in 10 minutes\n",
    "\n",
    "        RETURN t2.trip_id, t2.route_id, s2.stop_name, dur.seconds\n",
    "        \"\"\" % trip_id\n",
    "            )\n",
    "\n",
    "        rides = [{\"trip_id\": r[0], \"route_id\": r[1], \"stop_name\": r[2], \"duration\": r[3]} \n",
    "                    for r in response]\n",
    "    \n",
    "    return rides"
   ]
  },
  {
   "cell_type": "code",
   "execution_count": null,
   "metadata": {},
   "outputs": [],
   "source": []
  },
  {
   "cell_type": "code",
   "execution_count": 9,
   "metadata": {},
   "outputs": [
    {
     "data": {
      "text/html": [
       "<div>\n",
       "<style scoped>\n",
       "    .dataframe tbody tr th:only-of-type {\n",
       "        vertical-align: middle;\n",
       "    }\n",
       "\n",
       "    .dataframe tbody tr th {\n",
       "        vertical-align: top;\n",
       "    }\n",
       "\n",
       "    .dataframe thead th {\n",
       "        text-align: right;\n",
       "    }\n",
       "</style>\n",
       "<table border=\"1\" class=\"dataframe\">\n",
       "  <thead>\n",
       "    <tr style=\"text-align: right;\">\n",
       "      <th></th>\n",
       "      <th>route_id</th>\n",
       "      <th>trip_id</th>\n",
       "      <th>service_id</th>\n",
       "      <th>trip_headsign</th>\n",
       "      <th>direction_id</th>\n",
       "      <th>block_id</th>\n",
       "      <th>shape_id</th>\n",
       "      <th>wheelchair_accessible</th>\n",
       "      <th>bikes_allowed</th>\n",
       "      <th>boarding_door</th>\n",
       "    </tr>\n",
       "  </thead>\n",
       "  <tbody>\n",
       "  </tbody>\n",
       "</table>\n",
       "</div>"
      ],
      "text/plain": [
       "Empty DataFrame\n",
       "Columns: [route_id, trip_id, service_id, trip_headsign, direction_id, block_id, shape_id, wheelchair_accessible, bikes_allowed, boarding_door]\n",
       "Index: []"
      ]
     },
     "execution_count": 9,
     "metadata": {},
     "output_type": "execute_result"
    }
   ],
   "source": [
    "trips[  (trips.service_id == \"B99619APPMAA-011\") & (trips.route_id == \"1530\") ]"
   ]
  },
  {
   "cell_type": "code",
   "execution_count": 10,
   "metadata": {},
   "outputs": [
    {
     "data": {
      "text/plain": [
       "2814"
      ]
     },
     "execution_count": 10,
     "metadata": {},
     "output_type": "execute_result"
    }
   ],
   "source": [
    "q = switch_from_ride(\"C413899203\")\n",
    "len(q)"
   ]
  },
  {
   "cell_type": "code",
   "execution_count": 5,
   "metadata": {},
   "outputs": [
    {
     "data": {
      "text/plain": [
       "(79326, 9)"
      ]
     },
     "execution_count": 5,
     "metadata": {},
     "output_type": "execute_result"
    }
   ],
   "source": [
    "stop_times[ stop_times.arrival_time != stop_times.departure_time].shape"
   ]
  },
  {
   "cell_type": "markdown",
   "metadata": {},
   "source": []
  },
  {
   "cell_type": "markdown",
   "metadata": {},
   "source": [
    "# Plan possible routes between stops at a given time of day"
   ]
  },
  {
   "cell_type": "code",
   "execution_count": 4,
   "metadata": {},
   "outputs": [
    {
     "data": {
      "text/plain": [
       "(79326, 9)"
      ]
     },
     "execution_count": 4,
     "metadata": {},
     "output_type": "execute_result"
    }
   ],
   "source": [
    "MATCH (sd: SDate {service_date: date(\"2022-01-21\")})-[*1]-(services)\n",
    "MATCH (t1: Trip{route_id : \"1530\"})-[:OPERATES]-(services)\n",
    "MATCH (t2: Trip)-[:OPERATES]-(services)\n",
    "\n",
    "MATCH path = (:Stop{stop_name: \"Szent Imre Kórház\"})-[st1:STOPS_AT]-(t1)-[:STOPS_AT*0..1]-(t2)- [st2:STOPS_AT]-(:Stop{stop_name: \"Petőfi híd, budai hídfő\"})\n",
    "\n",
    "WHERE time(\"08:00:00\") <=st1.arrival_time <= time(\"09:00:00\")\n",
    "AND   time(\"08:00:00\") <=st2.arrival_time <= time(\"09:00:00\")\n",
    "AND st1.stop_sequence < st2.stop_sequence\n",
    "\n",
    "RETURN path"
   ]
  },
  {
   "cell_type": "code",
   "execution_count": 1,
   "metadata": {},
   "outputs": [
    {
     "data": {
      "text/plain": [
       "0.012315198665364447"
      ]
     },
     "execution_count": 1,
     "metadata": {},
     "output_type": "execute_result"
    }
   ],
   "source": [
    "MATCH (sd: SDate {service_date: date(\"2022-01-21\")})-[*1]-(services)\n",
    "MATCH (t: Trip)-[:OPERATES]-(services)\n",
    "\n",
    "MATCH path = (:Stop{stop_name: \"Szent Imre Kórház\"})-[st1:STOPS_AT]-(t)-[:STOPS_AT*0..1]-(t)- [st2:STOPS_AT]-(:Stop{stop_name: \"Petőfi híd, budai hídfő\"})\n",
    "\n",
    "WHERE all( rel in relationships(path) WHERE \n",
    "            ( type(rel)=\"CLOSE_TO\" or \n",
    "            ( time(\"08:00:00\") <=rel.arrival_time <= time(\"09:00:00\")) )\n",
    "         )\n",
    "AND st1.stop_sequence < st2.stop_sequence\n",
    "\n",
    "RETURN path"
   ]
  },
  {
   "cell_type": "code",
   "execution_count": null,
   "metadata": {},
   "outputs": [],
   "source": [
    "MATCH (sd: SDate {service_date: date(\"2022-01-21\")})-[*1]-(services)\n",
    "MATCH (t: Trip)-[:OPERATES]-(services)\n",
    "\n",
    "MATCH path = (:Stop{stop_name: \"Szent Imre Kórház\"})-[st1:STOPS_AT]-(t)-[:STOPS_AT*0..1]-(t)- [st2:STOPS_AT]-(:Stop{stop_name: \"Petőfi híd, budai hídfő\"})\n",
    "\n",
    "WHERE all( rel in relationships(path) WHERE \n",
    "            ( type(rel)=\"CLOSE_TO\" or \n",
    "            ( time(\"08:00:00\") <=rel.arrival_time <= time(\"09:00:00\")) )\n",
    "         )\n",
    "AND st1.stop_sequence < st2.stop_sequence\n",
    "\n",
    "WITH relationships(path) as rels\n",
    "\n",
    "//UNWIND rels as rel\n",
    "//RETURN COLLECT(rel.arrival_time)\n",
    "WITH [ rel in rels | rel.arrival_time ] as arrtimes\n",
    "RETURN apoc.coll.sort(arrtimes) = arrtimes"
   ]
  },
  {
   "cell_type": "code",
   "execution_count": null,
   "metadata": {},
   "outputs": [],
   "source": [
    "MATCH (sd: SDate {service_date: date(\"2022-01-21\")})-[*1]-(service_nodes)\n",
    "WITH [ serv in COLLECT(service_nodes) | serv.service_id ] as services\n",
    "//WHERE st.arrival_time < time(\"10:00:00\")\n",
    "//AND st.arrival_time > time(\"06:00:00\")\n",
    "\n",
    "MATCH path = (:Stop{stop_name: \"Szent Imre Kórház\"})-[:STOPS_AT]-(t1: Trip)-[:STOPS_AT|CLOSE_TO*0..3]-(t2: Trip)- [:STOPS_AT]-(:Stop{stop_name: \"Petőfi híd, budai hídfő\"})\n",
    "\n",
    "WHERE all( n in nodes(path) WHERE\n",
    "            ( labels(n)<>[\"Trip\"] or \n",
    "              (n.service_id in services))\n",
    "          )\n",
    "\n",
    "\n",
    "WITH *, relationships(path) as rels\n",
    "WHERE all( rel in rels WHERE \n",
    "            ( type(rel)=\"CLOSE_TO\" or \n",
    "            ( time(\"08:00:00\") <=rel.arrival_time <= time(\"09:00:00\")) )\n",
    "         )\n",
    "\n",
    "WITH *, [ rel in rels | rel.arrival_time ] as arrtimes\n",
    "//WHERE apoc.coll.sort(arrtimes) = arrtimes  // check if trip goes in preferred direction\n",
    "RETURN path"
   ]
  },
  {
   "cell_type": "markdown",
   "metadata": {},
   "source": [
    "# Ways to describe the topology of the transportation network"
   ]
  },
  {
   "cell_type": "markdown",
   "metadata": {},
   "source": [
    "### Degree centrality"
   ]
  },
  {
   "cell_type": "markdown",
   "metadata": {},
   "source": []
  },
  {
   "cell_type": "code",
   "execution_count": 90,
   "metadata": {},
   "outputs": [],
   "source": [
    "def stop_degree_centrality():\n",
    "\n",
    "    with driver.session() as session:\n",
    "            response = session.run( \\\n",
    "            \"\"\"\n",
    "            MATCH (s: Stop)-[:STOPS_AT*2]-(other_stops)\n",
    "            RETURN s.stop_name, COUNT(DISTINCT other_stops)\n",
    "            \"\"\" \n",
    "                )\n",
    "\n",
    "            rides = [ r[1]\n",
    "                        for r in response]\n",
    "    \n",
    "    return np.array( rides )\n",
    "\n",
    "def stop_trip_degree_centrality():\n",
    "\n",
    "    with driver.session() as session:\n",
    "            response = session.run( \\\n",
    "            \"\"\"\n",
    "            MATCH (s: Stop)-[:STOPS_AT*1]-(trips)\n",
    "            RETURN s.stop_name, COUNT(DISTINCT trips)\n",
    "            \"\"\" \n",
    "                )\n",
    "\n",
    "            rides = [ r[1]\n",
    "                        for r in response]\n",
    "    \n",
    "    return np.array( rides )\n",
    "\n",
    "def stop_route_degree_centrality():\n",
    "\n",
    "    with driver.session() as session:\n",
    "            response = session.run( \\\n",
    "            \"\"\"\n",
    "            MATCH (s: Stop)-[:STOPS_AT*1]-(trips)\n",
    "            RETURN s.stop_name, COUNT(DISTINCT trips.route_id)\n",
    "            \"\"\" \n",
    "                )\n",
    "\n",
    "            rides = [ r[1]\n",
    "                        for r in response]\n",
    "    \n",
    "    return np.array( rides )"
   ]
  },
  {
   "cell_type": "code",
   "execution_count": 104,
   "metadata": {},
   "outputs": [],
   "source": [
    "stop_deg = stop_trip_degree_centrality()"
   ]
  },
  {
   "cell_type": "code",
   "execution_count": 105,
   "metadata": {},
   "outputs": [
    {
     "data": {
      "image/png": "[encoded data removed]",
      "text/plain": [
       "<Figure size 432x288 with 1 Axes>"
      ]
     },
     "metadata": {},
     "output_type": "display_data"
    }
   ],
   "source": [
    "#count, bins= np.histogram(stop_deg, bins = 40)\n",
    "plt.hist(stop_deg, bins = 40)\n",
    "#plt.plot(bins[1:], count, marker = \"o\")\n",
    "\n",
    "plt.yscale(\"log\")\n",
    "plt.xlabel(\"k - degree\", size= 14)\n",
    "plt.ylabel(\"count\", size = 14)\n",
    "plt.title(\"Stops-Trip - Degree distribution\", size = 14)\n",
    "plt.tight_layout()\n",
    "plt.savefig(\"media/s-t_deg_centr.svg\")\n"
   ]
  },
  {
   "cell_type": "markdown",
   "metadata": {},
   "source": [
    "### Assortativity"
   ]
  },
  {
   "cell_type": "code",
   "execution_count": 73,
   "metadata": {},
   "outputs": [
    {
     "ename": "SyntaxError",
     "evalue": "invalid syntax (<ipython-input-73-81bebf248dc3>, line 1)",
     "output_type": "error",
     "traceback": [
      "\u001b[1;36m  File \u001b[1;32m\"<ipython-input-73-81bebf248dc3>\"\u001b[1;36m, line \u001b[1;32m1\u001b[0m\n\u001b[1;33m    MATCH (s: Stop)-[:STOPS_AT*2]-(other_stops)-[:STOPS_AT*2]-(other_stops2)\u001b[0m\n\u001b[1;37m            ^\u001b[0m\n\u001b[1;31mSyntaxError\u001b[0m\u001b[1;31m:\u001b[0m invalid syntax\n"
     ]
    }
   ],
   "source": [
    "MATCH (s: Stop)-[:STOPS_AT*2]-(other_stops)-[:STOPS_AT*2]-(other_stops2)\n",
    "RETURN s, COUNT(DISTINCT other_stops), COUNT(DISTINCT other_stops2)"
   ]
  }
 ],
 "metadata": {
  "interpreter": {
   "hash": "ed8eca2b220cf1e27a3481ffdb2c31f1e299e2d8073166b9e2e1c30297a93942"
  },
  "kernelspec": {
   "display_name": "Python 3.8.5 64-bit ('base': conda)",
   "language": "python",
   "name": "python3"
  },
  "language_info": {
   "codemirror_mode": {
    "name": "ipython",
    "version": 3
   },
   "file_extension": ".py",
   "mimetype": "text/x-python",
   "name": "python",
   "nbconvert_exporter": "python",
   "pygments_lexer": "ipython3",
   "version": "3.8.5"
  },
  "orig_nbformat": 4
 },
 "nbformat": 4,
 "nbformat_minor": 2
}
